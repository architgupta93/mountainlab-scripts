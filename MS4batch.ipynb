{
 "cells": [
  {
   "cell_type": "code",
   "execution_count": null,
   "metadata": {},
   "outputs": [],
   "source": [
    "import ms4_franklab_pyplines as pyp\n",
    "import pyff_utils as pyff\n",
    "import ms4_franklab_proc2py as p2p\n",
    "import sys, os, subprocess\n",
    "import logging\n",
    "from distutils.dir_util import copy_tree\n",
    "%load_ext autoreload"
   ]
  },
  {
   "cell_type": "code",
   "execution_count": null,
   "metadata": {},
   "outputs": [],
   "source": [
    "%autoreload 2"
   ]
  },
  {
   "cell_type": "code",
   "execution_count": null,
   "metadata": {},
   "outputs": [],
   "source": [
    "# anim details. for now, assume that sort should include all eps/day\n",
    "mda_util_path = '/home/ag/SRC/frank-lab/src/mda_util.py'\n",
    "ntlinks_path = '/home/ag/SRC/frank-lab/src/MS4setup_NTlinks.node.js'\n",
    "data_dir = '/home/ag/SRC/frank-lab/src/'\n",
    "results_dir= '/home/ag/SRC/frank-lab/src/results/'\n",
    "anim = 'G02'\n",
    "days = [1]\n",
    "dates = [20180609] #dates 10/22-11/30\n",
    "\n",
    "# if datelist not provided, fetch dates from taskinfo struct\n",
    "# TODO make py_evaluate filter more flexible so that it can do this\n",
    "\n",
    "#if not dates or len(days)!=len(dates):\n",
    "#    dates = pyff.py_evaluatefilter(base_dir, anim, 'taskinfo', days,['date','*'])\n",
    "\n",
    "#if tetlist not provided, fetch ca1 tets from tetinfo struct\n",
    "print('I ran! 1')\n",
    "tetfilt = ['area','ca1']\n",
    "tetlist = [1, 2]\n",
    "if not tetlist and tetfilt:\n",
    "    tetlist = pyff.py_evaluatefilter(results_dir, anim, 'tetinfo', days,tetfilt)"
   ]
  },
  {
   "cell_type": "code",
   "execution_count": null,
   "metadata": {},
   "outputs": [],
   "source": [
    "days"
   ]
  },
  {
   "cell_type": "code",
   "execution_count": null,
   "metadata": {},
   "outputs": [],
   "source": [
    "    index = 0\n",
    "    day = 1\n",
    "    day_src_dir = data_dir+anim+'/preprocessing/'+str(dates[index])+'/'\n",
    "    # check if mnt directory exists for this day. if not, call mda_util to generate the symlinks to the mda files\n",
    "    # run this in the data src directory (vortex)\n",
    "    mnt_path = day_src_dir+str(dates[index])+'_'+anim+'.mnt/'\n",
    "    print('processing day '+str(day))\n",
    "    if not os.path.exists(mnt_path):\n",
    "        print('no mnt directory found; calling mda_util')\n",
    "        os.chdir(data_dir+anim+'/preprocessing')\n",
    "        subprocess.call(['python',mda_util_path])\n",
    "    print('MDA Util Ran successfully')"
   ]
  },
  {
   "cell_type": "code",
   "execution_count": null,
   "metadata": {},
   "outputs": [],
   "source": [
    "    mountain_src_path = day_src_dir+str(dates[index])+'_'+anim+'.mountain'\n",
    "    mountain_res_path = results_dir+anim+'/preprocessing/'+str(dates[index])+'/'+str(dates[index])+'_'+anim+'.mountain'\n",
    "    \n",
    "    print('Source ' + mountain_src_path)\n",
    "    print('Destination ' + mountain_res_path)\n",
    "    if not os.path.exists(mountain_src_path):\n",
    "        print('no mountain dir found; calling setup_NTlinks')\n",
    "        os.chdir(day_src_dir)\n",
    "        subprocess.call([ntlinks_path, mnt_path])\n",
    "    print('Finished creating NT Links')\n",
    "    if not os.path.exists(mountain_res_path):\n",
    "        print('copying mountain dir to results dir')\n",
    "        copy_tree(mountain_src_path,mountain_res_path)\n",
    "    else:\n",
    "        print(mountain_res_path + ' exists')"
   ]
  },
  {
   "cell_type": "code",
   "execution_count": null,
   "metadata": {},
   "outputs": [],
   "source": [
    "        nt_ind = 0\n",
    "        nt = 1\n",
    "        nt_src_dir = mountain_src_path+'/nt'+str(nt)\n",
    "        nt_out_dir = mountain_res_path+'/nt'+str(nt)\n",
    "        \n",
    "        # concatenate all eps, since ms4 no longer takes a list of mdas; save as raw.mda\n",
    "        # save this to the output dir; it serves as src for subsequent steps\n",
    "        prv_list=nt_src_dir+'/raw.mda.prv'\n",
    "        pyp.concat_eps(dataset_dir=nt_out_dir,mda_list=prv_list)\n",
    "        \n",
    "        # preprocessing: filter, mask out artifacts, whiten\n",
    "        # TODO make optional whether you save the interediates (filt, pre)\n",
    "        #pyp.filt_mask_whiten(dataset_dir=nt_out_dir,output_dir=nt_out_dir, freq_min=300,freq_max=6000, opts={})\n",
    "        \n",
    "        #run the actual sort \n",
    "        #pyp.ms4_sort_on_segs(dataset_dir=nt_out_dir,output_dir=nt_out_dir, adjacency_radius=-1,detect_threshold=3, detect_sign=-1, opts={})\n",
    "        "
   ]
  },
  {
   "cell_type": "code",
   "execution_count": null,
   "metadata": {
    "scrolled": true
   },
   "outputs": [],
   "source": [
    "for index, day in enumerate(days):\n",
    "\n",
    "    day_src_dir = data_dir+anim+'/preprocessing/'+str(dates[index])+'/'\n",
    "    # check if mnt directory exists for this day. if not, call mda_util to generate the symlinks to the mda files\n",
    "    # run this in the data src directory (vortex)\n",
    "    mnt_path = day_src_dir+str(dates[index])+'_'+anim+'.mnt/'\n",
    "    print('processing day '+str(day))\n",
    "    if not os.path.exists(mnt_path):\n",
    "        print('no mnt directory found; calling mda_util')\n",
    "        os.chdir(data_dir+anim+'/preprocessing')\n",
    "        subprocess.call(['python',mda_util_path])  \n",
    "    \n",
    "    # check if .mountain dir exists for this day (still in the data src  dir)\n",
    "    # if not, run the setup javascript to generate prvs that link mda files (via their symlinks) across epochs\n",
    "    # need to generate mountaindir in src then copy it over to results\n",
    "    mountain_src_path = cle+str(dates[index])+'_'+anim+'.mountain'\n",
    "    mountain_res_path = results_dir+anim+'/preprocessing/'+str(dates[index])+'/'+str(dates[index])+'_'+anim+'.mountain'\n",
    "    if not os.path.exists(mountain_src_path):\n",
    "        print('no mountain dir found; calling setup_NTlinks')\n",
    "        os.chdir(day_src_dir)\n",
    "        subprocess.call([ntlinks_path, mnt_path])\n",
    "    if not os.path.exists(mountain_res_path):\n",
    "        print('copying mountain dir to results dir')\n",
    "        copy_tree(mountain_src_path,mountain_res_path)\n",
    "    \n",
    "    #now for the actually processing: iterate through ntrodes\n",
    "    for nt_ind, nt in enumerate(tetlist[day]):\n",
    "        nt_src_dir = mountain_src_path+'/nt'+str(nt)\n",
    "        nt_out_dir = mountain_res_path+'/nt'+str(nt)\n",
    "        \n",
    "        # concatenate all eps, since ms4 no longer takes a list of mdas; save as raw.mda\n",
    "        # save this to the output dir; it serves as src for subsequent steps\n",
    "        prv_list=nt_src_dir+'/raw.mda.prv'\n",
    "        pyp.concat_eps(dataset_dir=nt_out_dir,mda_list=prv_list)\n",
    "        \n",
    "        # preprocessing: filter, mask out artifacts, whiten\n",
    "        # TODO make optional whether you save the interediates (filt, pre)\n",
    "        pyp.filt_mask_whiten(dataset_dir=nt_out_dir,output_dir=nt_out_dir, freq_min=300,freq_max=6000, opts={})\n",
    "        \n",
    "        #run the actual sort \n",
    "        pyp.ms4_sort_on_segs(dataset_dir=nt_out_dir,output_dir=nt_out_dir, adjacency_radius=-1,detect_threshold=3, detect_sign=-1, opts={})\n",
    "        \n",
    "        "
   ]
  },
  {
   "cell_type": "code",
   "execution_count": null,
   "metadata": {},
   "outputs": [],
   "source": [
    "# in a separate loop, go back and add tags to the metrics - due to bug in ms3.combine_cluster_metrics\n",
    "for index, day in enumerate(days):\n",
    "    for nt_ind, nt in enumerate(tetlist[day]):\n",
    "        nt_dir = mountain_path+'/nt'+str(nt)\n",
    "        pyp.add_curation_tags(dataset_dir=nt_dir,output_dir=nt_dir,opts={})\n"
   ]
  },
  {
   "cell_type": "code",
   "execution_count": null,
   "metadata": {},
   "outputs": [],
   "source": [
    "# generate marks \n",
    "for index, day in enumerate(days):\n",
    "    for nt_ind, nt in enumerate(tetlist[day]):\n",
    "        nt_dir = mountain_path+'/nt'+str(nt)\n",
    "        pyp.extract_marks(dataset_dir=nt_dir,output_dir=nt_dir,opts={})"
   ]
  },
  {
   "cell_type": "code",
   "execution_count": null,
   "metadata": {},
   "outputs": [],
   "source": [
    "# TODO: implement logging system to track all calls and params used "
   ]
  }
 ],
 "metadata": {
  "kernelspec": {
   "display_name": "Python 3",
   "language": "python",
   "name": "python3"
  },
  "language_info": {
   "codemirror_mode": {
    "name": "ipython",
    "version": 3
   },
   "file_extension": ".py",
   "mimetype": "text/x-python",
   "name": "python",
   "nbconvert_exporter": "python",
   "pygments_lexer": "ipython3",
   "version": "3.7.0"
  }
 },
 "nbformat": 4,
 "nbformat_minor": 2
}
