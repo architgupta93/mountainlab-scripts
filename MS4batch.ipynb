{
 "cells": [
  {
   "cell_type": "code",
   "execution_count": 38,
   "metadata": {},
   "outputs": [
    {
     "name": "stdout",
     "output_type": "stream",
     "text": [
      "The autoreload extension is already loaded. To reload it, use:\n",
      "  %reload_ext autoreload\n"
     ]
    }
   ],
   "source": [
    "import ms4_franklab_pyplines as pyp\n",
    "import pyff_utils as pyff\n",
    "import ms4_franklab_proc2py as p2p\n",
    "import sys, os, subprocess\n",
    "import logging\n",
    "from distutils.dir_util import copy_tree\n",
    "%load_ext autoreload"
   ]
  },
  {
   "cell_type": "code",
   "execution_count": 39,
   "metadata": {},
   "outputs": [],
   "source": [
    "%autoreload 2"
   ]
  },
  {
   "cell_type": "code",
   "execution_count": 40,
   "metadata": {},
   "outputs": [
    {
     "name": "stdout",
     "output_type": "stream",
     "text": [
      "I ran! 1\n"
     ]
    }
   ],
   "source": [
    "# anim details. for now, assume that sort should include all eps/day\n",
    "mda_util_path = '/home/ag/SRC/frank-lab/mda_util.py'\n",
    "ntlinks_path = '/home/ag/SRC/frank-lab/MS4setup_NTlinks.node.js'\n",
    "data_dir = '/home/ag/SRC/frank-lab/'\n",
    "results_dir= '/home/ag/SRC/frank-lab/results/'\n",
    "anim = 'G02'\n",
    "days = [1]\n",
    "dates = [20180609] #dates 10/22-11/30\n",
    "\n",
    "# if datelist not provided, fetch dates from taskinfo struct\n",
    "# TODO make py_evaluate filter more flexible so that it can do this\n",
    "\n",
    "#if not dates or len(days)!=len(dates):\n",
    "#    dates = pyff.py_evaluatefilter(base_dir, anim, 'taskinfo', days,['date','*'])\n",
    "\n",
    "#if tetlist not provided, fetch ca1 tets from tetinfo struct\n",
    "print('I ran! 1')\n",
    "tetfilt = ['area','ca1']\n",
    "tetlist = [1, 2]\n",
    "if not tetlist and tetfilt:\n",
    "    tetlist = pyff.py_evaluatefilter(results_dir, anim, 'tetinfo', days,tetfilt)"
   ]
  },
  {
   "cell_type": "code",
   "execution_count": 41,
   "metadata": {},
   "outputs": [
    {
     "data": {
      "text/plain": [
       "[1]"
      ]
     },
     "execution_count": 41,
     "metadata": {},
     "output_type": "execute_result"
    }
   ],
   "source": [
    "days"
   ]
  },
  {
   "cell_type": "code",
   "execution_count": 58,
   "metadata": {},
   "outputs": [
    {
     "name": "stdout",
     "output_type": "stream",
     "text": [
      "processing day 1\n",
      "no mnt directory found; calling mda_util\n",
      "MDA Util Ran successfully\n"
     ]
    }
   ],
   "source": [
    "    index = 0\n",
    "    day = 1\n",
    "    day_src_dir = data_dir+anim+'/preprocessing/'+str(dates[index])+'/'\n",
    "    # check if mnt directory exists for this day. if not, call mda_util to generate the symlinks to the mda files\n",
    "    # run this in the data src directory (vortex)\n",
    "    mnt_path = day_src_dir+str(dates[index])+'_'+anim+'.mnt/'\n",
    "    print('processing day '+str(day))\n",
    "    if not os.path.exists(mnt_path):\n",
    "        print('no mnt directory found; calling mda_util')\n",
    "        os.chdir(data_dir+anim+'/preprocessing')\n",
    "        subprocess.call(['python',mda_util_path])\n",
    "    print('MDA Util Ran successfully')"
   ]
  },
  {
   "cell_type": "code",
   "execution_count": 57,
   "metadata": {},
   "outputs": [
    {
     "name": "stdout",
     "output_type": "stream",
     "text": [
      "Source /home/ag/SRC/frank-lab/G02/preprocessing/20180609/20180609_G02.mountain\n",
      "Destination /home/ag/SRC/frank-lab/results/G02/preprocessing/20180609/20180609_G02.mountain\n",
      "no mountain dir found; calling setup_NTlinks\n",
      "Finished creating NT Links\n",
      "copying mountain dir to results dir\n"
     ]
    },
    {
     "ename": "DistutilsFileError",
     "evalue": "cannot copy tree '/home/ag/SRC/frank-lab/G02/preprocessing/20180609/20180609_G02.mountain': not a directory",
     "output_type": "error",
     "traceback": [
      "\u001b[0;31m---------------------------------------------------------------------------\u001b[0m",
      "\u001b[0;31mDistutilsFileError\u001b[0m                        Traceback (most recent call last)",
      "\u001b[0;32m<ipython-input-57-679cdc5cbb39>\u001b[0m in \u001b[0;36m<module>\u001b[0;34m\u001b[0m\n\u001b[1;32m     11\u001b[0m \u001b[0;32mif\u001b[0m \u001b[0;32mnot\u001b[0m \u001b[0mos\u001b[0m\u001b[0;34m.\u001b[0m\u001b[0mpath\u001b[0m\u001b[0;34m.\u001b[0m\u001b[0mexists\u001b[0m\u001b[0;34m(\u001b[0m\u001b[0mmountain_res_path\u001b[0m\u001b[0;34m)\u001b[0m\u001b[0;34m:\u001b[0m\u001b[0;34m\u001b[0m\u001b[0;34m\u001b[0m\u001b[0m\n\u001b[1;32m     12\u001b[0m     \u001b[0mprint\u001b[0m\u001b[0;34m(\u001b[0m\u001b[0;34m'copying mountain dir to results dir'\u001b[0m\u001b[0;34m)\u001b[0m\u001b[0;34m\u001b[0m\u001b[0;34m\u001b[0m\u001b[0m\n\u001b[0;32m---> 13\u001b[0;31m     \u001b[0mcopy_tree\u001b[0m\u001b[0;34m(\u001b[0m\u001b[0mmountain_src_path\u001b[0m\u001b[0;34m,\u001b[0m\u001b[0mmountain_res_path\u001b[0m\u001b[0;34m)\u001b[0m\u001b[0;34m\u001b[0m\u001b[0;34m\u001b[0m\u001b[0m\n\u001b[0m\u001b[1;32m     14\u001b[0m \u001b[0;32melse\u001b[0m\u001b[0;34m:\u001b[0m\u001b[0;34m\u001b[0m\u001b[0;34m\u001b[0m\u001b[0m\n\u001b[1;32m     15\u001b[0m     \u001b[0mprint\u001b[0m\u001b[0;34m(\u001b[0m\u001b[0mmountain_res_path\u001b[0m \u001b[0;34m+\u001b[0m \u001b[0;34m' exists'\u001b[0m\u001b[0;34m)\u001b[0m\u001b[0;34m\u001b[0m\u001b[0;34m\u001b[0m\u001b[0m\n",
      "\u001b[0;32m~/conda/envs/mountainlab/lib/python3.6/distutils/dir_util.py\u001b[0m in \u001b[0;36mcopy_tree\u001b[0;34m(src, dst, preserve_mode, preserve_times, preserve_symlinks, update, verbose, dry_run)\u001b[0m\n\u001b[1;32m    122\u001b[0m     \u001b[0;32mif\u001b[0m \u001b[0;32mnot\u001b[0m \u001b[0mdry_run\u001b[0m \u001b[0;32mand\u001b[0m \u001b[0;32mnot\u001b[0m \u001b[0mos\u001b[0m\u001b[0;34m.\u001b[0m\u001b[0mpath\u001b[0m\u001b[0;34m.\u001b[0m\u001b[0misdir\u001b[0m\u001b[0;34m(\u001b[0m\u001b[0msrc\u001b[0m\u001b[0;34m)\u001b[0m\u001b[0;34m:\u001b[0m\u001b[0;34m\u001b[0m\u001b[0;34m\u001b[0m\u001b[0m\n\u001b[1;32m    123\u001b[0m         raise DistutilsFileError(\n\u001b[0;32m--> 124\u001b[0;31m               \"cannot copy tree '%s': not a directory\" % src)\n\u001b[0m\u001b[1;32m    125\u001b[0m     \u001b[0;32mtry\u001b[0m\u001b[0;34m:\u001b[0m\u001b[0;34m\u001b[0m\u001b[0;34m\u001b[0m\u001b[0m\n\u001b[1;32m    126\u001b[0m         \u001b[0mnames\u001b[0m \u001b[0;34m=\u001b[0m \u001b[0mos\u001b[0m\u001b[0;34m.\u001b[0m\u001b[0mlistdir\u001b[0m\u001b[0;34m(\u001b[0m\u001b[0msrc\u001b[0m\u001b[0;34m)\u001b[0m\u001b[0;34m\u001b[0m\u001b[0;34m\u001b[0m\u001b[0m\n",
      "\u001b[0;31mDistutilsFileError\u001b[0m: cannot copy tree '/home/ag/SRC/frank-lab/G02/preprocessing/20180609/20180609_G02.mountain': not a directory"
     ]
    }
   ],
   "source": [
    "    mountain_src_path = day_src_dir+str(dates[index])+'_'+anim+'.mountain'\n",
    "    mountain_res_path = results_dir+anim+'/preprocessing/'+str(dates[index])+'/'+str(dates[index])+'_'+anim+'.mountain'\n",
    "    \n",
    "    print('Source ' + mountain_src_path)\n",
    "    print('Destination ' + mountain_res_path)\n",
    "    if not os.path.exists(mountain_src_path):\n",
    "        print('no mountain dir found; calling setup_NTlinks')\n",
    "        os.chdir(day_src_dir)\n",
    "        subprocess.call([ntlinks_path, mnt_path])\n",
    "    print('Finished creating NT Links')\n",
    "    if not os.path.exists(mountain_res_path):\n",
    "        print('copying mountain dir to results dir')\n",
    "        copy_tree(mountain_src_path,mountain_res_path)\n",
    "    else:\n",
    "        print(mountain_res_path + ' exists')"
   ]
  },
  {
   "cell_type": "code",
   "execution_count": 31,
   "metadata": {},
   "outputs": [
    {
     "name": "stdout",
     "output_type": "stream",
     "text": [
      "Calling concat_eps\n",
      "\n"
     ]
    },
    {
     "ename": "FileNotFoundError",
     "evalue": "[Errno 2] No such file or directory: '/home/ag/SRC/frank-lab/G02/preprocessing/20180609/20180609_G02.mountain/nt2/raw.mda.prv'",
     "output_type": "error",
     "traceback": [
      "\u001b[0;31m---------------------------------------------------------------------------\u001b[0m",
      "\u001b[0;31mFileNotFoundError\u001b[0m                         Traceback (most recent call last)",
      "\u001b[0;32m<ipython-input-31-fd086012bdd0>\u001b[0m in \u001b[0;36m<module>\u001b[0;34m\u001b[0m\n\u001b[1;32m      9\u001b[0m \u001b[0mprint\u001b[0m\u001b[0;34m(\u001b[0m\u001b[0;34m'Calling concat_eps'\u001b[0m\u001b[0;34m)\u001b[0m\u001b[0;34m\u001b[0m\u001b[0;34m\u001b[0m\u001b[0m\n\u001b[1;32m     10\u001b[0m \u001b[0mprint\u001b[0m\u001b[0;34m(\u001b[0m\u001b[0;34m)\u001b[0m\u001b[0;34m\u001b[0m\u001b[0;34m\u001b[0m\u001b[0m\n\u001b[0;32m---> 11\u001b[0;31m \u001b[0mpyp\u001b[0m\u001b[0;34m.\u001b[0m\u001b[0mconcat_eps\u001b[0m\u001b[0;34m(\u001b[0m\u001b[0mdataset_dir\u001b[0m\u001b[0;34m=\u001b[0m\u001b[0mnt_out_dir\u001b[0m\u001b[0;34m,\u001b[0m\u001b[0mmda_list\u001b[0m\u001b[0;34m=\u001b[0m\u001b[0mprv_list\u001b[0m\u001b[0;34m)\u001b[0m\u001b[0;34m\u001b[0m\u001b[0;34m\u001b[0m\u001b[0m\n\u001b[0m\u001b[1;32m     12\u001b[0m \u001b[0;34m\u001b[0m\u001b[0m\n\u001b[1;32m     13\u001b[0m \u001b[0;31m# preprocessing: filter, mask out artifacts, whiten\u001b[0m\u001b[0;34m\u001b[0m\u001b[0;34m\u001b[0m\u001b[0;34m\u001b[0m\u001b[0m\n",
      "\u001b[0;32m~/Git/spike-analysis/frank-lab/ms4_franklab_pyplines.py\u001b[0m in \u001b[0;36mconcat_eps\u001b[0;34m(dataset_dir, mda_list, opts)\u001b[0m\n\u001b[1;32m     16\u001b[0m \u001b[0;31m#before anything else, must concat all eps together becuase ms4 no longer handles the prv list of mdas\u001b[0m\u001b[0;34m\u001b[0m\u001b[0;34m\u001b[0m\u001b[0;34m\u001b[0m\u001b[0m\n\u001b[1;32m     17\u001b[0m \u001b[0;32mdef\u001b[0m \u001b[0mconcat_eps\u001b[0m\u001b[0;34m(\u001b[0m\u001b[0;34m*\u001b[0m\u001b[0;34m,\u001b[0m\u001b[0mdataset_dir\u001b[0m\u001b[0;34m,\u001b[0m \u001b[0mmda_list\u001b[0m\u001b[0;34m,\u001b[0m\u001b[0mopts\u001b[0m\u001b[0;34m=\u001b[0m\u001b[0;34m{\u001b[0m\u001b[0;34m}\u001b[0m\u001b[0;34m)\u001b[0m\u001b[0;34m:\u001b[0m\u001b[0;34m\u001b[0m\u001b[0;34m\u001b[0m\u001b[0m\n\u001b[0;32m---> 18\u001b[0;31m     \u001b[0;32mwith\u001b[0m \u001b[0mopen\u001b[0m\u001b[0;34m(\u001b[0m\u001b[0mmda_list\u001b[0m\u001b[0;34m)\u001b[0m \u001b[0;32mas\u001b[0m \u001b[0mf\u001b[0m\u001b[0;34m:\u001b[0m\u001b[0;34m\u001b[0m\u001b[0;34m\u001b[0m\u001b[0m\n\u001b[0m\u001b[1;32m     19\u001b[0m         \u001b[0mmdalist\u001b[0m\u001b[0;34m=\u001b[0m\u001b[0mjson\u001b[0m\u001b[0;34m.\u001b[0m\u001b[0mload\u001b[0m\u001b[0;34m(\u001b[0m\u001b[0mf\u001b[0m\u001b[0;34m)\u001b[0m\u001b[0;34m\u001b[0m\u001b[0;34m\u001b[0m\u001b[0m\n\u001b[1;32m     20\u001b[0m     \u001b[0mprint\u001b[0m\u001b[0;34m(\u001b[0m\u001b[0;34m\"File List:\"\u001b[0m\u001b[0;34m)\u001b[0m\u001b[0;34m\u001b[0m\u001b[0;34m\u001b[0m\u001b[0m\n",
      "\u001b[0;31mFileNotFoundError\u001b[0m: [Errno 2] No such file or directory: '/home/ag/SRC/frank-lab/G02/preprocessing/20180609/20180609_G02.mountain/nt2/raw.mda.prv'"
     ]
    }
   ],
   "source": [
    "        nt_ind = 0\n",
    "        nt = 2\n",
    "        nt_src_dir = mountain_src_path+'/nt'+str(nt)\n",
    "        nt_out_dir = mountain_res_path+'/nt'+str(nt)\n",
    "        \n",
    "        # concatenate all eps, since ms4 no longer takes a list of mdas; save as raw.mda\n",
    "        # save this to the output dir; it serves as src for subsequent steps\n",
    "        prv_list=nt_src_dir+'/raw.mda.prv'\n",
    "        print('Calling concat_eps')\n",
    "        print()\n",
    "        pyp.concat_eps(dataset_dir=nt_out_dir,mda_list=prv_list)\n",
    "        \n",
    "        # preprocessing: filter, mask out artifacts, whiten\n",
    "        # TODO make optional whether you save the interediates (filt, pre)\n",
    "        pyp.filt_mask_whiten(dataset_dir=nt_out_dir,output_dir=nt_out_dir, freq_min=300,freq_max=6000, opts={})\n",
    "        \n",
    "        #run the actual sort \n",
    "        pyp.ms4_sort_on_segs(dataset_dir=nt_out_dir,output_dir=nt_out_dir, adjacency_radius=-1,detect_threshold=3, detect_sign=-1, opts={})\n",
    "        \n",
    "        nt_dir = mountain_path+'/nt'+str(nt)\n",
    "        pyp.add_curation_tags(dataset_dir=nt_dir,output_dir=nt_dir,opts={})\n",
    "        pyp.extract_marks(dataset_dir=nt_dir,output_dir=nt_dir,opts={})\n",
    "\n",
    "        "
   ]
  },
  {
   "cell_type": "code",
   "execution_count": 1,
   "metadata": {
    "scrolled": true
   },
   "outputs": [
    {
     "ename": "NameError",
     "evalue": "name 'days' is not defined",
     "output_type": "error",
     "traceback": [
      "\u001b[0;31m---------------------------------------------------------------------------\u001b[0m",
      "\u001b[0;31mNameError\u001b[0m                                 Traceback (most recent call last)",
      "\u001b[0;32m<ipython-input-1-33936c071be7>\u001b[0m in \u001b[0;36m<module>\u001b[0;34m()\u001b[0m\n\u001b[0;32m----> 1\u001b[0;31m \u001b[0;32mfor\u001b[0m \u001b[0mindex\u001b[0m\u001b[0;34m,\u001b[0m \u001b[0mday\u001b[0m \u001b[0;32min\u001b[0m \u001b[0menumerate\u001b[0m\u001b[0;34m(\u001b[0m\u001b[0mdays\u001b[0m\u001b[0;34m)\u001b[0m\u001b[0;34m:\u001b[0m\u001b[0;34m\u001b[0m\u001b[0m\n\u001b[0m\u001b[1;32m      2\u001b[0m \u001b[0;34m\u001b[0m\u001b[0m\n\u001b[1;32m      3\u001b[0m     \u001b[0mday_src_dir\u001b[0m \u001b[0;34m=\u001b[0m \u001b[0mdata_dir\u001b[0m\u001b[0;34m+\u001b[0m\u001b[0manim\u001b[0m\u001b[0;34m+\u001b[0m\u001b[0;34m'/preprocessing/'\u001b[0m\u001b[0;34m+\u001b[0m\u001b[0mstr\u001b[0m\u001b[0;34m(\u001b[0m\u001b[0mdates\u001b[0m\u001b[0;34m[\u001b[0m\u001b[0mindex\u001b[0m\u001b[0;34m]\u001b[0m\u001b[0;34m)\u001b[0m\u001b[0;34m+\u001b[0m\u001b[0;34m'/'\u001b[0m\u001b[0;34m\u001b[0m\u001b[0m\n\u001b[1;32m      4\u001b[0m     \u001b[0;31m# check if mnt directory exists for this day. if not, call mda_util to generate the symlinks to the mda files\u001b[0m\u001b[0;34m\u001b[0m\u001b[0;34m\u001b[0m\u001b[0m\n\u001b[1;32m      5\u001b[0m     \u001b[0;31m# run this in the data src directory (vortex)\u001b[0m\u001b[0;34m\u001b[0m\u001b[0;34m\u001b[0m\u001b[0m\n",
      "\u001b[0;31mNameError\u001b[0m: name 'days' is not defined"
     ]
    }
   ],
   "source": [
    "for index, day in enumerate(days):\n",
    "\n",
    "    day_src_dir = data_dir+anim+'/preprocessing/'+str(dates[index])+'/'\n",
    "    # check if mnt directory exists for this day. if not, call mda_util to generate the symlinks to the mda files\n",
    "    # run this in the data src directory (vortex)\n",
    "    mnt_path = day_src_dir+str(dates[index])+'_'+anim+'.mnt/'\n",
    "    print('processing day '+str(day))\n",
    "    if not os.path.exists(mnt_path):\n",
    "        print('no mnt directory found; calling mda_util')\n",
    "        os.chdir(data_dir+anim+'/preprocessing')\n",
    "        subprocess.call(['python',mda_util_path])  \n",
    "    \n",
    "    # check if .mountain dir exists for this day (still in the data src  dir)\n",
    "    # if not, run the setup javascript to generate prvs that link mda files (via their symlinks) across epochs\n",
    "    # need to generate mountaindir in src then copy it over to results\n",
    "    mountain_src_path = cle+str(dates[index])+'_'+anim+'.mountain'\n",
    "    mountain_res_path = results_dir+anim+'/preprocessing/'+str(dates[index])+'/'+str(dates[index])+'_'+anim+'.mountain'\n",
    "    if not os.path.exists(mountain_src_path):\n",
    "        print('no mountain dir found; calling setup_NTlinks')\n",
    "        os.chdir(day_src_dir)\n",
    "        subprocess.call([ntlinks_path, mnt_path])\n",
    "    if not os.path.exists(mountain_res_path):\n",
    "        print('copying mountain dir to results dir')\n",
    "        copy_tree(mountain_src_path,mountain_res_path)\n",
    "    \n",
    "    #now for the actually processing: iterate through ntrodes\n",
    "    for nt_ind, nt in enumerate(tetlist[day]):\n",
    "        nt_src_dir = mountain_src_path+'/nt'+str(nt)\n",
    "        nt_out_dir = mountain_res_path+'/nt'+str(nt)\n",
    "        \n",
    "        # concatenate all eps, since ms4 no longer takes a list of mdas; save as raw.mda\n",
    "        # save this to the output dir; it serves as src for subsequent steps\n",
    "        prv_list=nt_src_dir+'/raw.mda.prv'\n",
    "        pyp.concat_eps(dataset_dir=nt_out_dir,mda_list=prv_list)\n",
    "        \n",
    "        # preprocessing: filter, mask out artifacts, whiten\n",
    "        # TODO make optional whether you save the interediates (filt, pre)\n",
    "        pyp.filt_mask_whiten(dataset_dir=nt_out_dir,output_dir=nt_out_dir, freq_min=300,freq_max=6000, opts={})\n",
    "        \n",
    "        #run the actual sort \n",
    "        pyp.ms4_sort_on_segs(dataset_dir=nt_out_dir,output_dir=nt_out_dir, adjacency_radius=-1,detect_threshold=3, detect_sign=-1, opts={})\n",
    "        \n",
    "        "
   ]
  },
  {
   "cell_type": "code",
   "execution_count": null,
   "metadata": {},
   "outputs": [],
   "source": [
    "# in a separate loop, go back and add tags to the metrics - due to bug in ms3.combine_cluster_metrics\n",
    "for index, day in enumerate(days):\n",
    "    for nt_ind, nt in enumerate(tetlist[day]):\n",
    "        nt_dir = mountain_path+'/nt'+str(nt)\n",
    "        pyp.add_curation_tags(dataset_dir=nt_dir,output_dir=nt_dir,opts={})\n"
   ]
  },
  {
   "cell_type": "code",
   "execution_count": null,
   "metadata": {},
   "outputs": [],
   "source": [
    "# generate marks \n",
    "for index, day in enumerate(days):\n",
    "    for nt_ind, nt in enumerate(tetlist[day]):\n",
    "        nt_dir = mountain_path+'/nt'+str(nt)\n",
    "        pyp.extract_marks(dataset_dir=nt_dir,output_dir=nt_dir,opts={})"
   ]
  },
  {
   "cell_type": "code",
   "execution_count": null,
   "metadata": {},
   "outputs": [],
   "source": [
    "# TODO: implement logging system to track all calls and params used "
   ]
  }
 ],
 "metadata": {
  "kernelspec": {
   "display_name": "Python 3",
   "language": "python",
   "name": "python3"
  },
  "language_info": {
   "codemirror_mode": {
    "name": "ipython",
    "version": 3
   },
   "file_extension": ".py",
   "mimetype": "text/x-python",
   "name": "python",
   "nbconvert_exporter": "python",
   "pygments_lexer": "ipython3",
   "version": "3.6.7"
  }
 },
 "nbformat": 4,
 "nbformat_minor": 2
}
